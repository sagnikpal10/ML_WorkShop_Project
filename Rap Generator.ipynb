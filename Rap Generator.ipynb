{
 "cells": [
  {
   "cell_type": "code",
   "execution_count": 4,
   "metadata": {},
   "outputs": [],
   "source": [
    "def load_file(filename):\n",
    "    with open(filename, encoding=\"utf-8\") as f:\n",
    "        return f.read().lower()\n",
    "    "
   ]
  },
  {
   "cell_type": "code",
   "execution_count": 5,
   "metadata": {},
   "outputs": [
    {
     "data": {
      "text/plain": [
       "'कौन बोला मुझसे न हो पायेगा\\nकौन बोला, कौन बोला\\nअपना time आएगा\\nउठ जा अपनी राख से तू\\nउठ जा अब तलाश में\\nपरवाज़ देख परवाने की\\nअसमान भी सर उठाएगा\\nआएगा अपना time आएगा\\nमेरे जैसा शाणा लाला\\nतुझे न मिल पायेगा\\nये शब्दों का ज्वाला\\nमेरी बेड़ियाँ पिघलायेगा\\nजितना तूने बोया है\\nतू उतना ही तो खायेगा\\nऐसा मेरा ख्वाब है\\nजो डर को भी सताएगा\\nजिंदा मेरा ख्वाब\\nअब कैसे तू दफानायेगा\\nअब हौसले से जीने दे\\nअब खौफ नहीं है सीने में\\nहर रास्ते को चीरेंगे\\nहम कामयाबी छीनेंगे\\nसब कुछ मिला पसीने से\\nमतलब बना अब जीने में\\nक्यूँ...\\nक्यूंकि अपना time आएगा\\nतू नंगा ही तो आया है\\nक्या घंटा लेकर जाएगा\\nअपना time आएगा\\nअपना time आएगा\\nअपना time आएगा\\nतू नंगा ही तो आया है\\nक्या घंटा लेकर जाएगा\\nअपना time आएगा\\nअपना time आएगा\\nअपना time आएगा\\nतू नंगा ही तो आया है\\nक्या घंटा लेकर\\nकिसी का हाथ नहीं था सर पर\\nयहाँ पर आया खुदकी मेहनत से मैं\\nजितनी ताकत किस्मत में नहीं\\nउतनी रहमत में है\\nफिर भी लड़का सहमत नहीं है\\nक्यूंकि हैरत नहीं है\\nजरुरत यहाँ मर्ज़ी की और जुर्रत की है\\nदिक्कत की है, आफत की, हिमाकत की, इबादत की\\nअदालत ये है चाहत की\\nमोहब्बत की, अमानत की\\nजीतने की अब आदत की\\nअब शोहरत की, अब लालच नहीं है\\nतेरे भाई जैसा कोई हार्डीच नहीं है\\nhard, hard, hard\\nइस हरकत ने ही बरकत दी है\\nक्यूँ...\\nक्यूंकि अपना time आएगा\\nतू नंगा ही तो आया है\\nक्या घंटा लेकर जाएगा\\nअपना time आएगा\\nअपना time आएगा\\nअपना time आएगा\\nतू नंगा ही तो आया है\\nक्या घंटा लेकर जाएगा\\nअपना time आएगा\\nअपना time आएगा\\nअपना time आएगा\\nतू नंगा ही तो आया है\\nक्या घंटा लेकर जाएगा\\nकल नंगा ही तो आया था\\nक्या तू घंटा लेकर जाएगा\\nअपना time आएगा\\nअपना time आएगा\\nअपना time आएगा ना\\nतू नंगा ही तो जाएगा ना'"
      ]
     },
     "execution_count": 5,
     "metadata": {},
     "output_type": "execute_result"
    }
   ],
   "source": [
    "load_file(\"data.txt\")"
   ]
  },
  {
   "cell_type": "code",
   "execution_count": 15,
   "metadata": {},
   "outputs": [],
   "source": [
    "def transitionTable(data, k = 4): # k is length of substring\n",
    "    \"\"\" Here data is passed as string\"\"\"\n",
    "    T = {}\n",
    "    # Some computation\n",
    "    # Filling the transition table\n",
    "    for i in range(len(data) - k):\n",
    "        X = data[i:i+k]\n",
    "        Y = data[i+k]\n",
    "        if T.get(X) is None: # substring is not present\n",
    "            T[X] = {}\n",
    "            T[X][Y] = 1;\n",
    "        elif T[X].get(Y) is None: # substring is present but the next occuring char is not present\n",
    "            T[X][Y] = 1\n",
    "        else: # substring and the following char is present\n",
    "            T[X][Y] += 1\n",
    "            \n",
    "        #print(X, Y)\n",
    "    return T"
   ]
  },
  {
   "cell_type": "code",
   "execution_count": 17,
   "metadata": {},
   "outputs": [
    {
     "name": "stdout",
     "output_type": "stream",
     "text": [
      "{'hell': {'o': 2, 'i': 1}, 'ello': {' ': 2}, 'llo ': {'h': 2}, 'lo h': {'e': 1, 'y': 1}, 'o he': {'l': 1}, ' hel': {'l': 2}, 'o hy': {' ': 1}, ' hy ': {'h': 1}, 'hy h': {'e': 1}, 'y he': {'l': 1}}\n"
     ]
    }
   ],
   "source": [
    "transitiondata = transitionTable(\"hello hello hy helli\")\n",
    "print(transitiondata)"
   ]
  },
  {
   "cell_type": "code",
   "execution_count": 18,
   "metadata": {},
   "outputs": [
    {
     "data": {
      "text/plain": [
       "dict_values([2, 1])"
      ]
     },
     "execution_count": 18,
     "metadata": {},
     "output_type": "execute_result"
    }
   ],
   "source": [
    "transitiondata[\"hell\"].values()"
   ]
  },
  {
   "cell_type": "code",
   "execution_count": 19,
   "metadata": {},
   "outputs": [
    {
     "data": {
      "text/plain": [
       "3"
      ]
     },
     "execution_count": 19,
     "metadata": {},
     "output_type": "execute_result"
    }
   ],
   "source": [
    "sum(transitiondata[\"hell\"].values())"
   ]
  },
  {
   "cell_type": "code",
   "execution_count": 20,
   "metadata": {},
   "outputs": [
    {
     "name": "stdout",
     "output_type": "stream",
     "text": [
      "hell\n",
      "ello\n",
      "llo \n",
      "lo h\n",
      "o he\n",
      " hel\n",
      "o hy\n",
      " hy \n",
      "hy h\n",
      "y he\n"
     ]
    }
   ],
   "source": [
    "for kx in transitiondata.keys():\n",
    "    print(kx)"
   ]
  },
  {
   "cell_type": "code",
   "execution_count": 21,
   "metadata": {},
   "outputs": [
    {
     "name": "stdout",
     "output_type": "stream",
     "text": [
      "hell 3\n",
      "ello 2\n",
      "llo  2\n",
      "lo h 2\n",
      "o he 1\n",
      " hel 2\n",
      "o hy 1\n",
      " hy  1\n",
      "hy h 1\n",
      "y he 1\n"
     ]
    }
   ],
   "source": [
    "for kx in transitiondata.keys():\n",
    "    norm_factor = sum(transitiondata[kx].values())\n",
    "    print(kx, norm_factor)\n",
    "    "
   ]
  },
  {
   "cell_type": "code",
   "execution_count": 23,
   "metadata": {},
   "outputs": [],
   "source": [
    "def probabilityTransition(T):\n",
    "    for kx in T.keys():\n",
    "        norm_factor = sum(T[kx].values())\n",
    "        \n",
    "        for val in T[kx].keys():\n",
    "            T[kx][val] = T[kx][val]/norm_factor\n",
    "     "
   ]
  },
  {
   "cell_type": "code",
   "execution_count": 24,
   "metadata": {},
   "outputs": [],
   "source": [
    "probabilityTransition(transitiondata)"
   ]
  },
  {
   "cell_type": "code",
   "execution_count": 26,
   "metadata": {},
   "outputs": [
    {
     "data": {
      "text/plain": [
       "{'hell': {'o': 0.6666666666666666, 'i': 0.3333333333333333},\n",
       " 'ello': {' ': 1.0},\n",
       " 'llo ': {'h': 1.0},\n",
       " 'lo h': {'e': 0.5, 'y': 0.5},\n",
       " 'o he': {'l': 1.0},\n",
       " ' hel': {'l': 1.0},\n",
       " 'o hy': {' ': 1.0},\n",
       " ' hy ': {'h': 1.0},\n",
       " 'hy h': {'e': 1.0},\n",
       " 'y he': {'l': 1.0}}"
      ]
     },
     "execution_count": 26,
     "metadata": {},
     "output_type": "execute_result"
    }
   ],
   "source": [
    "transitiondata"
   ]
  },
  {
   "cell_type": "code",
   "execution_count": null,
   "metadata": {},
   "outputs": [],
   "source": []
  }
 ],
 "metadata": {
  "kernelspec": {
   "display_name": "Python 3",
   "language": "python",
   "name": "python3"
  },
  "language_info": {
   "codemirror_mode": {
    "name": "ipython",
    "version": 3
   },
   "file_extension": ".py",
   "mimetype": "text/x-python",
   "name": "python",
   "nbconvert_exporter": "python",
   "pygments_lexer": "ipython3",
   "version": "3.7.3"
  }
 },
 "nbformat": 4,
 "nbformat_minor": 2
}
